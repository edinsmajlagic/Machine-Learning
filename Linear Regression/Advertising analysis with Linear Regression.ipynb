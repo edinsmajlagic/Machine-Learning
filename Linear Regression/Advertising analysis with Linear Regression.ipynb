{
 "cells": [
  {
   "cell_type": "markdown",
   "metadata": {},
   "source": [
    "# <br> Linear Regression <br>"
   ]
  },
  {
   "cell_type": "markdown",
   "metadata": {},
   "source": [
    "### <br> Agenda : <br>\n",
    "  *  Introduction to Linear Regression\n",
    "  *  Overfitting\n",
    "  *  Regularization of linear models\n",
    "  *  Data importing\n",
    "  *  Data analyzing\n",
    "  *  Data Cleaning\n",
    "  *  Creating linear regression model\n",
    "  *  Making predictions\n",
    "  *  Evaluate model\n",
    "  *  BONUS prediction using LassoCV and RidgeCV regularization\n",
    "  *  Summary\n",
    "  *  Resources  <br><br>\n",
    "  \n",
    " "
   ]
  },
  {
   "cell_type": "markdown",
   "metadata": {},
   "source": [
    "## <br> Introduction to Linear Regression <br><br>\n",
    "\n",
    "Simple linear regression is an approach for predicting a quantitative response using a single feature (or \"predictor\" or \"input variable\").<br>\n",
    "It takes the following form:<br>\n",
    "\n",
    "$y = \\beta_0 + \\beta_1x$\n",
    "\n",
    "What does each term represent?<br><br>\n",
    "\n",
    "$y$ is the response<br>\n",
    "$x$ is the feature<br>\n",
    "$\\beta_0$ is the intercept<br>\n",
    "$\\beta_1$ is the coefficient for x<br>\n",
    "Together, $\\beta_0$ and $\\beta_1$ are called the model coefficients.<br>\n",
    "To create your model, you must \"learn\" the values of these coefficients.<br>\n",
    "And once we've learned these coefficients, we can use the model to predict Sales!<br><br><br>\n",
    "\n",
    "<img src='https://raw.githubusercontent.com/justmarkham/DAT4/068d887e4be2eedb1b958b345ae097153f762d75/notebooks/08_estimating_coefficients.png'> <br><br>\n",
    "What elements are present in the diagram?<br><br>\n",
    "\n",
    "*  The black dots are the observed values of x and y.\n",
    "*  The blue line is our least squares line.\n",
    "*  The red lines are the residuals, which are the distances between the observed values and the least squares line.\n",
    "<br><br><br><br>"
   ]
  },
  {
   "cell_type": "markdown",
   "metadata": {},
   "source": [
    " ### <br> Overfitting <br> <br> \n",
    "What is <b>overfitting</b>?<br> <br> \n",
    "\n",
    "*  Building a model that matches the training data \"too closely\"\n",
    "*  Learning from the noise in the data, rather than just the signal<br> <br> \n",
    "\n",
    "How does overfitting occur?<br> <br> \n",
    "\n",
    "*  Evaluating a model by testing it on the same data that was used to train it\n",
    "*  Creating a model that is \"too complex\"<br> <br> \n",
    "\n",
    "What is the impact of overfitting?<br> <br> \n",
    "\n",
    "*  Model will do well on the training data, but won't generalize to out-of-sample data\n",
    "*  Model will have low bias, but high variance<br> <br>\n",
    "\n",
    "#### <br> Overfitting with linear models<br><br>\n",
    "\n",
    "What are the general characteristics of linear models?<br><br>\n",
    "\n",
    "*  Low model complexity\n",
    "*  High bias, low variance\n",
    "*  Does not tend to overfit<br><br>\n",
    "\n",
    "Nevertheless, overfitting can still occur with linear models if you allow them to have high variance. Here are some common causes:<br><br>\n",
    "\n",
    "<b>Cause 1:  Irrelevant features</b><br>\n",
    "Linear models can overfit if you include \"irrelevant features\", meaning features that are unrelated to the response. Why?<br><br>\n",
    "\n",
    "Because it will learn a coefficient for every feature you include in the model, regardless of whether that feature has the signal or the noise.<br><br>\n",
    "\n",
    "This is especially a problem when <b>p</b> (number of features) is close to <b>n</b> (number of observations), because that model will naturally have high variance.<br><br>\n",
    "\n",
    "Cause 2: <b>Correlated features</b><br>\n",
    "Linear models can overfit if the included features are highly correlated with one another. <br><br>\n",
    "\n",
    "\n",
    "Cause 3: <b>Large coefficients</b><br>\n",
    "Linear models can overfit if the coefficients (after feature standardization) are too large. Why?<br><br>\n",
    "\n",
    "Because the larger the absolute value of the coefficient, the more power it has to change the predicted response, resulting in a higher variance.<br><br><br><br>"
   ]
  },
  {
   "cell_type": "markdown",
   "metadata": {},
   "source": [
    "### <br>Regularization of linear models<br><br>\n",
    "\n",
    "*  Regularization is a method for \"constraining\" or \"regularizing\" the size of the coefficients, thus \"shrinking\" them towards zero.\n",
    "*  It reduces model variance and thus minimizes overfitting.\n",
    "*  If the model is too complex, it tends to reduce variance more than it increases bias, resulting in a model that is more likely to generalize.<br><br>\n",
    "Our goal is to locate the optimum model complexity, and thus regularization is useful when we believe our model is too complex.<br><br><br>\n",
    "\n",
    "<img src='https://raw.githubusercontent.com/justmarkham/DAT8/ff04af83e8ac1409cd86f3cb3524e4141644c5a1/notebooks/images/bias_variance.png'><br><br><br>\n",
    "\n",
    "Lasso regression and Ridge regression are most commonly used for regularization.<br>\n",
    "A larger alpha parameter results in more regularization.<br><br>\n",
    "\n",
    "#### Lasso regression <br> \n",
    "Lasso regression shrinks coefficients all the way to zero, thus removing them from the model.<br>\n",
    "Formula : $$ {L}_{lasso} = \\alpha \\times | {slope}_1 +{slope}_2+..+ {slope}_n    | $$ <br> <br> \n",
    "\n",
    "#### Ridge regression  <br> \n",
    "Ridge regression shrinks coefficients toward zero, but they rarely reach zero.<br>\n",
    "Formula : $$ {L}_{ridge } = \\alpha \\times ( {slope}_1^2 +{slope}_2^2+..+ {slope}_n^2    ) $$\n",
    "<br><br><br>"
   ]
  },
  {
   "cell_type": "markdown",
   "metadata": {},
   "source": [
    " #### <br><br> About dataset :<br><br>\n",
    "  Dataset have data about how much money in thousands was spent for advertising some product on TV,   Newspapers and Radio.<br>\n",
    "  In 'Sales' column are stored data about how much money earned from sales in    thousands.<br><br>\n",
    "  <b>Task</b>: How advertising on TV, Newspapers and Radio have impact on Sales.<br><br>\n",
    "  This will help to make decision where to invest more money on ads.<br><br>",
    "  <b>Features</b> are columns <b>'TV'</b>, <b>'Newspaper'</b>, <b>'Radio' </b>.<br><br>",
    "  <b>Response</b> is column <b>'Sales'</b>.<br><br><br>"
   ]
  },
  {
   "cell_type": "markdown",
   "metadata": {},
   "source": [
    "### <br> 1. Data importing<br>"
   ]
  },
  {
   "cell_type": "code",
   "execution_count": 1,
   "metadata": {},
   "outputs": [],
   "source": [
    "# Import pandas\n",
    "\n",
    "import pandas as pd"
   ]
  },
  {
   "cell_type": "code",
   "execution_count": 2,
   "metadata": {},
   "outputs": [],
   "source": [
    "# Import numpy\n",
    "\n",
    "import numpy as np"
   ]
  },
  {
   "cell_type": "code",
   "execution_count": 3,
   "metadata": {},
   "outputs": [],
   "source": [
    "# Create dataframe 'sales' with data from csv file\n",
    "\n",
    "sales=pd.read_csv(r\"D:\\SalesbyAdvertising.csv\")"
   ]
  },
  {
   "cell_type": "markdown",
   "metadata": {},
   "source": [
    "### <br> 2. Data analyzing <br>"
   ]
  },
  {
   "cell_type": "code",
   "execution_count": 4,
   "metadata": {},
   "outputs": [
    {
     "data": {
      "text/html": [
       "<div>\n",
       "<style scoped>\n",
       "    .dataframe tbody tr th:only-of-type {\n",
       "        vertical-align: middle;\n",
       "    }\n",
       "\n",
       "    .dataframe tbody tr th {\n",
       "        vertical-align: top;\n",
       "    }\n",
       "\n",
       "    .dataframe thead th {\n",
       "        text-align: right;\n",
       "    }\n",
       "</style>\n",
       "<table border=\"1\" class=\"dataframe\">\n",
       "  <thead>\n",
       "    <tr style=\"text-align: right;\">\n",
       "      <th></th>\n",
       "      <th>Unnamed: 0</th>\n",
       "      <th>TV</th>\n",
       "      <th>Radio</th>\n",
       "      <th>Newspaper</th>\n",
       "      <th>Sales</th>\n",
       "    </tr>\n",
       "  </thead>\n",
       "  <tbody>\n",
       "    <tr>\n",
       "      <th>0</th>\n",
       "      <td>1</td>\n",
       "      <td>230.1</td>\n",
       "      <td>37.8</td>\n",
       "      <td>69.2</td>\n",
       "      <td>22.1</td>\n",
       "    </tr>\n",
       "    <tr>\n",
       "      <th>1</th>\n",
       "      <td>2</td>\n",
       "      <td>44.5</td>\n",
       "      <td>39.3</td>\n",
       "      <td>45.1</td>\n",
       "      <td>10.4</td>\n",
       "    </tr>\n",
       "    <tr>\n",
       "      <th>2</th>\n",
       "      <td>3</td>\n",
       "      <td>17.2</td>\n",
       "      <td>45.9</td>\n",
       "      <td>69.3</td>\n",
       "      <td>9.3</td>\n",
       "    </tr>\n",
       "    <tr>\n",
       "      <th>3</th>\n",
       "      <td>4</td>\n",
       "      <td>151.5</td>\n",
       "      <td>41.3</td>\n",
       "      <td>58.5</td>\n",
       "      <td>18.5</td>\n",
       "    </tr>\n",
       "    <tr>\n",
       "      <th>4</th>\n",
       "      <td>5</td>\n",
       "      <td>180.8</td>\n",
       "      <td>10.8</td>\n",
       "      <td>58.4</td>\n",
       "      <td>12.9</td>\n",
       "    </tr>\n",
       "  </tbody>\n",
       "</table>\n",
       "</div>"
      ],
      "text/plain": [
       "   Unnamed: 0     TV  Radio  Newspaper  Sales\n",
       "0           1  230.1   37.8       69.2   22.1\n",
       "1           2   44.5   39.3       45.1   10.4\n",
       "2           3   17.2   45.9       69.3    9.3\n",
       "3           4  151.5   41.3       58.5   18.5\n",
       "4           5  180.8   10.8       58.4   12.9"
      ]
     },
     "execution_count": 4,
     "metadata": {},
     "output_type": "execute_result"
    }
   ],
   "source": [
    "# First 5 rows\n",
    "\n",
    "sales.head()"
   ]
  },
  {
   "cell_type": "code",
   "execution_count": 5,
   "metadata": {},
   "outputs": [
    {
     "data": {
      "text/html": [
       "<div>\n",
       "<style scoped>\n",
       "    .dataframe tbody tr th:only-of-type {\n",
       "        vertical-align: middle;\n",
       "    }\n",
       "\n",
       "    .dataframe tbody tr th {\n",
       "        vertical-align: top;\n",
       "    }\n",
       "\n",
       "    .dataframe thead th {\n",
       "        text-align: right;\n",
       "    }\n",
       "</style>\n",
       "<table border=\"1\" class=\"dataframe\">\n",
       "  <thead>\n",
       "    <tr style=\"text-align: right;\">\n",
       "      <th></th>\n",
       "      <th>Unnamed: 0</th>\n",
       "      <th>TV</th>\n",
       "      <th>Radio</th>\n",
       "      <th>Newspaper</th>\n",
       "      <th>Sales</th>\n",
       "    </tr>\n",
       "  </thead>\n",
       "  <tbody>\n",
       "    <tr>\n",
       "      <th>count</th>\n",
       "      <td>200.000000</td>\n",
       "      <td>200.000000</td>\n",
       "      <td>200.000000</td>\n",
       "      <td>200.000000</td>\n",
       "      <td>200.000000</td>\n",
       "    </tr>\n",
       "    <tr>\n",
       "      <th>mean</th>\n",
       "      <td>100.500000</td>\n",
       "      <td>147.042500</td>\n",
       "      <td>23.264000</td>\n",
       "      <td>30.554000</td>\n",
       "      <td>14.022500</td>\n",
       "    </tr>\n",
       "    <tr>\n",
       "      <th>std</th>\n",
       "      <td>57.879185</td>\n",
       "      <td>85.854236</td>\n",
       "      <td>14.846809</td>\n",
       "      <td>21.778621</td>\n",
       "      <td>5.217457</td>\n",
       "    </tr>\n",
       "    <tr>\n",
       "      <th>min</th>\n",
       "      <td>1.000000</td>\n",
       "      <td>0.700000</td>\n",
       "      <td>0.000000</td>\n",
       "      <td>0.300000</td>\n",
       "      <td>1.600000</td>\n",
       "    </tr>\n",
       "    <tr>\n",
       "      <th>25%</th>\n",
       "      <td>50.750000</td>\n",
       "      <td>74.375000</td>\n",
       "      <td>9.975000</td>\n",
       "      <td>12.750000</td>\n",
       "      <td>10.375000</td>\n",
       "    </tr>\n",
       "    <tr>\n",
       "      <th>50%</th>\n",
       "      <td>100.500000</td>\n",
       "      <td>149.750000</td>\n",
       "      <td>22.900000</td>\n",
       "      <td>25.750000</td>\n",
       "      <td>12.900000</td>\n",
       "    </tr>\n",
       "    <tr>\n",
       "      <th>75%</th>\n",
       "      <td>150.250000</td>\n",
       "      <td>218.825000</td>\n",
       "      <td>36.525000</td>\n",
       "      <td>45.100000</td>\n",
       "      <td>17.400000</td>\n",
       "    </tr>\n",
       "    <tr>\n",
       "      <th>max</th>\n",
       "      <td>200.000000</td>\n",
       "      <td>296.400000</td>\n",
       "      <td>49.600000</td>\n",
       "      <td>114.000000</td>\n",
       "      <td>27.000000</td>\n",
       "    </tr>\n",
       "  </tbody>\n",
       "</table>\n",
       "</div>"
      ],
      "text/plain": [
       "       Unnamed: 0          TV       Radio   Newspaper       Sales\n",
       "count  200.000000  200.000000  200.000000  200.000000  200.000000\n",
       "mean   100.500000  147.042500   23.264000   30.554000   14.022500\n",
       "std     57.879185   85.854236   14.846809   21.778621    5.217457\n",
       "min      1.000000    0.700000    0.000000    0.300000    1.600000\n",
       "25%     50.750000   74.375000    9.975000   12.750000   10.375000\n",
       "50%    100.500000  149.750000   22.900000   25.750000   12.900000\n",
       "75%    150.250000  218.825000   36.525000   45.100000   17.400000\n",
       "max    200.000000  296.400000   49.600000  114.000000   27.000000"
      ]
     },
     "execution_count": 5,
     "metadata": {},
     "output_type": "execute_result"
    }
   ],
   "source": [
    "# Describe data\n",
    "\n",
    "sales.describe()"
   ]
  },
  {
   "cell_type": "code",
   "execution_count": 6,
   "metadata": {},
   "outputs": [
    {
     "name": "stdout",
     "output_type": "stream",
     "text": [
      "<class 'pandas.core.frame.DataFrame'>\n",
      "RangeIndex: 200 entries, 0 to 199\n",
      "Data columns (total 5 columns):\n",
      "Unnamed: 0    200 non-null int64\n",
      "TV            200 non-null float64\n",
      "Radio         200 non-null float64\n",
      "Newspaper     200 non-null float64\n",
      "Sales         200 non-null float64\n",
      "dtypes: float64(4), int64(1)\n",
      "memory usage: 7.9 KB\n"
     ]
    }
   ],
   "source": [
    "# Checking type of data\n",
    "\n",
    "sales.info()"
   ]
  },
  {
   "cell_type": "code",
   "execution_count": 7,
   "metadata": {},
   "outputs": [
    {
     "data": {
      "text/html": [
       "<div>\n",
       "<style scoped>\n",
       "    .dataframe tbody tr th:only-of-type {\n",
       "        vertical-align: middle;\n",
       "    }\n",
       "\n",
       "    .dataframe tbody tr th {\n",
       "        vertical-align: top;\n",
       "    }\n",
       "\n",
       "    .dataframe thead th {\n",
       "        text-align: right;\n",
       "    }\n",
       "</style>\n",
       "<table border=\"1\" class=\"dataframe\">\n",
       "  <thead>\n",
       "    <tr style=\"text-align: right;\">\n",
       "      <th></th>\n",
       "      <th>TV</th>\n",
       "      <th>Radio</th>\n",
       "      <th>Newspaper</th>\n",
       "      <th>Sales</th>\n",
       "    </tr>\n",
       "    <tr>\n",
       "      <th>Index</th>\n",
       "      <th></th>\n",
       "      <th></th>\n",
       "      <th></th>\n",
       "      <th></th>\n",
       "    </tr>\n",
       "  </thead>\n",
       "  <tbody>\n",
       "    <tr>\n",
       "      <th>1</th>\n",
       "      <td>230.1</td>\n",
       "      <td>37.8</td>\n",
       "      <td>69.2</td>\n",
       "      <td>22.1</td>\n",
       "    </tr>\n",
       "    <tr>\n",
       "      <th>2</th>\n",
       "      <td>44.5</td>\n",
       "      <td>39.3</td>\n",
       "      <td>45.1</td>\n",
       "      <td>10.4</td>\n",
       "    </tr>\n",
       "    <tr>\n",
       "      <th>3</th>\n",
       "      <td>17.2</td>\n",
       "      <td>45.9</td>\n",
       "      <td>69.3</td>\n",
       "      <td>9.3</td>\n",
       "    </tr>\n",
       "    <tr>\n",
       "      <th>4</th>\n",
       "      <td>151.5</td>\n",
       "      <td>41.3</td>\n",
       "      <td>58.5</td>\n",
       "      <td>18.5</td>\n",
       "    </tr>\n",
       "    <tr>\n",
       "      <th>5</th>\n",
       "      <td>180.8</td>\n",
       "      <td>10.8</td>\n",
       "      <td>58.4</td>\n",
       "      <td>12.9</td>\n",
       "    </tr>\n",
       "    <tr>\n",
       "      <th>6</th>\n",
       "      <td>8.7</td>\n",
       "      <td>48.9</td>\n",
       "      <td>75.0</td>\n",
       "      <td>7.2</td>\n",
       "    </tr>\n",
       "    <tr>\n",
       "      <th>7</th>\n",
       "      <td>57.5</td>\n",
       "      <td>32.8</td>\n",
       "      <td>23.5</td>\n",
       "      <td>11.8</td>\n",
       "    </tr>\n",
       "    <tr>\n",
       "      <th>8</th>\n",
       "      <td>120.2</td>\n",
       "      <td>19.6</td>\n",
       "      <td>11.6</td>\n",
       "      <td>13.2</td>\n",
       "    </tr>\n",
       "    <tr>\n",
       "      <th>9</th>\n",
       "      <td>8.6</td>\n",
       "      <td>2.1</td>\n",
       "      <td>1.0</td>\n",
       "      <td>4.8</td>\n",
       "    </tr>\n",
       "    <tr>\n",
       "      <th>10</th>\n",
       "      <td>199.8</td>\n",
       "      <td>2.6</td>\n",
       "      <td>21.2</td>\n",
       "      <td>10.6</td>\n",
       "    </tr>\n",
       "    <tr>\n",
       "      <th>11</th>\n",
       "      <td>66.1</td>\n",
       "      <td>5.8</td>\n",
       "      <td>24.2</td>\n",
       "      <td>8.6</td>\n",
       "    </tr>\n",
       "    <tr>\n",
       "      <th>12</th>\n",
       "      <td>214.7</td>\n",
       "      <td>24.0</td>\n",
       "      <td>4.0</td>\n",
       "      <td>17.4</td>\n",
       "    </tr>\n",
       "    <tr>\n",
       "      <th>13</th>\n",
       "      <td>23.8</td>\n",
       "      <td>35.1</td>\n",
       "      <td>65.9</td>\n",
       "      <td>9.2</td>\n",
       "    </tr>\n",
       "    <tr>\n",
       "      <th>14</th>\n",
       "      <td>97.5</td>\n",
       "      <td>7.6</td>\n",
       "      <td>7.2</td>\n",
       "      <td>9.7</td>\n",
       "    </tr>\n",
       "    <tr>\n",
       "      <th>15</th>\n",
       "      <td>204.1</td>\n",
       "      <td>32.9</td>\n",
       "      <td>46.0</td>\n",
       "      <td>19.0</td>\n",
       "    </tr>\n",
       "    <tr>\n",
       "      <th>16</th>\n",
       "      <td>195.4</td>\n",
       "      <td>47.7</td>\n",
       "      <td>52.9</td>\n",
       "      <td>22.4</td>\n",
       "    </tr>\n",
       "    <tr>\n",
       "      <th>17</th>\n",
       "      <td>67.8</td>\n",
       "      <td>36.6</td>\n",
       "      <td>114.0</td>\n",
       "      <td>12.5</td>\n",
       "    </tr>\n",
       "    <tr>\n",
       "      <th>18</th>\n",
       "      <td>281.4</td>\n",
       "      <td>39.6</td>\n",
       "      <td>55.8</td>\n",
       "      <td>24.4</td>\n",
       "    </tr>\n",
       "    <tr>\n",
       "      <th>19</th>\n",
       "      <td>69.2</td>\n",
       "      <td>20.5</td>\n",
       "      <td>18.3</td>\n",
       "      <td>11.3</td>\n",
       "    </tr>\n",
       "    <tr>\n",
       "      <th>20</th>\n",
       "      <td>147.3</td>\n",
       "      <td>23.9</td>\n",
       "      <td>19.1</td>\n",
       "      <td>14.6</td>\n",
       "    </tr>\n",
       "    <tr>\n",
       "      <th>21</th>\n",
       "      <td>218.4</td>\n",
       "      <td>27.7</td>\n",
       "      <td>53.4</td>\n",
       "      <td>18.0</td>\n",
       "    </tr>\n",
       "    <tr>\n",
       "      <th>22</th>\n",
       "      <td>237.4</td>\n",
       "      <td>5.1</td>\n",
       "      <td>23.5</td>\n",
       "      <td>12.5</td>\n",
       "    </tr>\n",
       "    <tr>\n",
       "      <th>23</th>\n",
       "      <td>13.2</td>\n",
       "      <td>15.9</td>\n",
       "      <td>49.6</td>\n",
       "      <td>5.6</td>\n",
       "    </tr>\n",
       "    <tr>\n",
       "      <th>24</th>\n",
       "      <td>228.3</td>\n",
       "      <td>16.9</td>\n",
       "      <td>26.2</td>\n",
       "      <td>15.5</td>\n",
       "    </tr>\n",
       "    <tr>\n",
       "      <th>25</th>\n",
       "      <td>62.3</td>\n",
       "      <td>12.6</td>\n",
       "      <td>18.3</td>\n",
       "      <td>9.7</td>\n",
       "    </tr>\n",
       "    <tr>\n",
       "      <th>26</th>\n",
       "      <td>262.9</td>\n",
       "      <td>3.5</td>\n",
       "      <td>19.5</td>\n",
       "      <td>12.0</td>\n",
       "    </tr>\n",
       "    <tr>\n",
       "      <th>27</th>\n",
       "      <td>142.9</td>\n",
       "      <td>29.3</td>\n",
       "      <td>12.6</td>\n",
       "      <td>15.0</td>\n",
       "    </tr>\n",
       "    <tr>\n",
       "      <th>28</th>\n",
       "      <td>240.1</td>\n",
       "      <td>16.7</td>\n",
       "      <td>22.9</td>\n",
       "      <td>15.9</td>\n",
       "    </tr>\n",
       "    <tr>\n",
       "      <th>29</th>\n",
       "      <td>248.8</td>\n",
       "      <td>27.1</td>\n",
       "      <td>22.9</td>\n",
       "      <td>18.9</td>\n",
       "    </tr>\n",
       "    <tr>\n",
       "      <th>30</th>\n",
       "      <td>70.6</td>\n",
       "      <td>16.0</td>\n",
       "      <td>40.8</td>\n",
       "      <td>10.5</td>\n",
       "    </tr>\n",
       "    <tr>\n",
       "      <th>...</th>\n",
       "      <td>...</td>\n",
       "      <td>...</td>\n",
       "      <td>...</td>\n",
       "      <td>...</td>\n",
       "    </tr>\n",
       "    <tr>\n",
       "      <th>171</th>\n",
       "      <td>50.0</td>\n",
       "      <td>11.6</td>\n",
       "      <td>18.4</td>\n",
       "      <td>8.4</td>\n",
       "    </tr>\n",
       "    <tr>\n",
       "      <th>172</th>\n",
       "      <td>164.5</td>\n",
       "      <td>20.9</td>\n",
       "      <td>47.4</td>\n",
       "      <td>14.5</td>\n",
       "    </tr>\n",
       "    <tr>\n",
       "      <th>173</th>\n",
       "      <td>19.6</td>\n",
       "      <td>20.1</td>\n",
       "      <td>17.0</td>\n",
       "      <td>7.6</td>\n",
       "    </tr>\n",
       "    <tr>\n",
       "      <th>174</th>\n",
       "      <td>168.4</td>\n",
       "      <td>7.1</td>\n",
       "      <td>12.8</td>\n",
       "      <td>11.7</td>\n",
       "    </tr>\n",
       "    <tr>\n",
       "      <th>175</th>\n",
       "      <td>222.4</td>\n",
       "      <td>3.4</td>\n",
       "      <td>13.1</td>\n",
       "      <td>11.5</td>\n",
       "    </tr>\n",
       "    <tr>\n",
       "      <th>176</th>\n",
       "      <td>276.9</td>\n",
       "      <td>48.9</td>\n",
       "      <td>41.8</td>\n",
       "      <td>27.0</td>\n",
       "    </tr>\n",
       "    <tr>\n",
       "      <th>177</th>\n",
       "      <td>248.4</td>\n",
       "      <td>30.2</td>\n",
       "      <td>20.3</td>\n",
       "      <td>20.2</td>\n",
       "    </tr>\n",
       "    <tr>\n",
       "      <th>178</th>\n",
       "      <td>170.2</td>\n",
       "      <td>7.8</td>\n",
       "      <td>35.2</td>\n",
       "      <td>11.7</td>\n",
       "    </tr>\n",
       "    <tr>\n",
       "      <th>179</th>\n",
       "      <td>276.7</td>\n",
       "      <td>2.3</td>\n",
       "      <td>23.7</td>\n",
       "      <td>11.8</td>\n",
       "    </tr>\n",
       "    <tr>\n",
       "      <th>180</th>\n",
       "      <td>165.6</td>\n",
       "      <td>10.0</td>\n",
       "      <td>17.6</td>\n",
       "      <td>12.6</td>\n",
       "    </tr>\n",
       "    <tr>\n",
       "      <th>181</th>\n",
       "      <td>156.6</td>\n",
       "      <td>2.6</td>\n",
       "      <td>8.3</td>\n",
       "      <td>10.5</td>\n",
       "    </tr>\n",
       "    <tr>\n",
       "      <th>182</th>\n",
       "      <td>218.5</td>\n",
       "      <td>5.4</td>\n",
       "      <td>27.4</td>\n",
       "      <td>12.2</td>\n",
       "    </tr>\n",
       "    <tr>\n",
       "      <th>183</th>\n",
       "      <td>56.2</td>\n",
       "      <td>5.7</td>\n",
       "      <td>29.7</td>\n",
       "      <td>8.7</td>\n",
       "    </tr>\n",
       "    <tr>\n",
       "      <th>184</th>\n",
       "      <td>287.6</td>\n",
       "      <td>43.0</td>\n",
       "      <td>71.8</td>\n",
       "      <td>26.2</td>\n",
       "    </tr>\n",
       "    <tr>\n",
       "      <th>185</th>\n",
       "      <td>253.8</td>\n",
       "      <td>21.3</td>\n",
       "      <td>30.0</td>\n",
       "      <td>17.6</td>\n",
       "    </tr>\n",
       "    <tr>\n",
       "      <th>186</th>\n",
       "      <td>205.0</td>\n",
       "      <td>45.1</td>\n",
       "      <td>19.6</td>\n",
       "      <td>22.6</td>\n",
       "    </tr>\n",
       "    <tr>\n",
       "      <th>187</th>\n",
       "      <td>139.5</td>\n",
       "      <td>2.1</td>\n",
       "      <td>26.6</td>\n",
       "      <td>10.3</td>\n",
       "    </tr>\n",
       "    <tr>\n",
       "      <th>188</th>\n",
       "      <td>191.1</td>\n",
       "      <td>28.7</td>\n",
       "      <td>18.2</td>\n",
       "      <td>17.3</td>\n",
       "    </tr>\n",
       "    <tr>\n",
       "      <th>189</th>\n",
       "      <td>286.0</td>\n",
       "      <td>13.9</td>\n",
       "      <td>3.7</td>\n",
       "      <td>15.9</td>\n",
       "    </tr>\n",
       "    <tr>\n",
       "      <th>190</th>\n",
       "      <td>18.7</td>\n",
       "      <td>12.1</td>\n",
       "      <td>23.4</td>\n",
       "      <td>6.7</td>\n",
       "    </tr>\n",
       "    <tr>\n",
       "      <th>191</th>\n",
       "      <td>39.5</td>\n",
       "      <td>41.1</td>\n",
       "      <td>5.8</td>\n",
       "      <td>10.8</td>\n",
       "    </tr>\n",
       "    <tr>\n",
       "      <th>192</th>\n",
       "      <td>75.5</td>\n",
       "      <td>10.8</td>\n",
       "      <td>6.0</td>\n",
       "      <td>9.9</td>\n",
       "    </tr>\n",
       "    <tr>\n",
       "      <th>193</th>\n",
       "      <td>17.2</td>\n",
       "      <td>4.1</td>\n",
       "      <td>31.6</td>\n",
       "      <td>5.9</td>\n",
       "    </tr>\n",
       "    <tr>\n",
       "      <th>194</th>\n",
       "      <td>166.8</td>\n",
       "      <td>42.0</td>\n",
       "      <td>3.6</td>\n",
       "      <td>19.6</td>\n",
       "    </tr>\n",
       "    <tr>\n",
       "      <th>195</th>\n",
       "      <td>149.7</td>\n",
       "      <td>35.6</td>\n",
       "      <td>6.0</td>\n",
       "      <td>17.3</td>\n",
       "    </tr>\n",
       "    <tr>\n",
       "      <th>196</th>\n",
       "      <td>38.2</td>\n",
       "      <td>3.7</td>\n",
       "      <td>13.8</td>\n",
       "      <td>7.6</td>\n",
       "    </tr>\n",
       "    <tr>\n",
       "      <th>197</th>\n",
       "      <td>94.2</td>\n",
       "      <td>4.9</td>\n",
       "      <td>8.1</td>\n",
       "      <td>9.7</td>\n",
       "    </tr>\n",
       "    <tr>\n",
       "      <th>198</th>\n",
       "      <td>177.0</td>\n",
       "      <td>9.3</td>\n",
       "      <td>6.4</td>\n",
       "      <td>12.8</td>\n",
       "    </tr>\n",
       "    <tr>\n",
       "      <th>199</th>\n",
       "      <td>283.6</td>\n",
       "      <td>42.0</td>\n",
       "      <td>66.2</td>\n",
       "      <td>25.5</td>\n",
       "    </tr>\n",
       "    <tr>\n",
       "      <th>200</th>\n",
       "      <td>232.1</td>\n",
       "      <td>8.6</td>\n",
       "      <td>8.7</td>\n",
       "      <td>13.4</td>\n",
       "    </tr>\n",
       "  </tbody>\n",
       "</table>\n",
       "<p>200 rows × 4 columns</p>\n",
       "</div>"
      ],
      "text/plain": [
       "          TV  Radio  Newspaper  Sales\n",
       "Index                                \n",
       "1      230.1   37.8       69.2   22.1\n",
       "2       44.5   39.3       45.1   10.4\n",
       "3       17.2   45.9       69.3    9.3\n",
       "4      151.5   41.3       58.5   18.5\n",
       "5      180.8   10.8       58.4   12.9\n",
       "6        8.7   48.9       75.0    7.2\n",
       "7       57.5   32.8       23.5   11.8\n",
       "8      120.2   19.6       11.6   13.2\n",
       "9        8.6    2.1        1.0    4.8\n",
       "10     199.8    2.6       21.2   10.6\n",
       "11      66.1    5.8       24.2    8.6\n",
       "12     214.7   24.0        4.0   17.4\n",
       "13      23.8   35.1       65.9    9.2\n",
       "14      97.5    7.6        7.2    9.7\n",
       "15     204.1   32.9       46.0   19.0\n",
       "16     195.4   47.7       52.9   22.4\n",
       "17      67.8   36.6      114.0   12.5\n",
       "18     281.4   39.6       55.8   24.4\n",
       "19      69.2   20.5       18.3   11.3\n",
       "20     147.3   23.9       19.1   14.6\n",
       "21     218.4   27.7       53.4   18.0\n",
       "22     237.4    5.1       23.5   12.5\n",
       "23      13.2   15.9       49.6    5.6\n",
       "24     228.3   16.9       26.2   15.5\n",
       "25      62.3   12.6       18.3    9.7\n",
       "26     262.9    3.5       19.5   12.0\n",
       "27     142.9   29.3       12.6   15.0\n",
       "28     240.1   16.7       22.9   15.9\n",
       "29     248.8   27.1       22.9   18.9\n",
       "30      70.6   16.0       40.8   10.5\n",
       "...      ...    ...        ...    ...\n",
       "171     50.0   11.6       18.4    8.4\n",
       "172    164.5   20.9       47.4   14.5\n",
       "173     19.6   20.1       17.0    7.6\n",
       "174    168.4    7.1       12.8   11.7\n",
       "175    222.4    3.4       13.1   11.5\n",
       "176    276.9   48.9       41.8   27.0\n",
       "177    248.4   30.2       20.3   20.2\n",
       "178    170.2    7.8       35.2   11.7\n",
       "179    276.7    2.3       23.7   11.8\n",
       "180    165.6   10.0       17.6   12.6\n",
       "181    156.6    2.6        8.3   10.5\n",
       "182    218.5    5.4       27.4   12.2\n",
       "183     56.2    5.7       29.7    8.7\n",
       "184    287.6   43.0       71.8   26.2\n",
       "185    253.8   21.3       30.0   17.6\n",
       "186    205.0   45.1       19.6   22.6\n",
       "187    139.5    2.1       26.6   10.3\n",
       "188    191.1   28.7       18.2   17.3\n",
       "189    286.0   13.9        3.7   15.9\n",
       "190     18.7   12.1       23.4    6.7\n",
       "191     39.5   41.1        5.8   10.8\n",
       "192     75.5   10.8        6.0    9.9\n",
       "193     17.2    4.1       31.6    5.9\n",
       "194    166.8   42.0        3.6   19.6\n",
       "195    149.7   35.6        6.0   17.3\n",
       "196     38.2    3.7       13.8    7.6\n",
       "197     94.2    4.9        8.1    9.7\n",
       "198    177.0    9.3        6.4   12.8\n",
       "199    283.6   42.0       66.2   25.5\n",
       "200    232.1    8.6        8.7   13.4\n",
       "\n",
       "[200 rows x 4 columns]"
      ]
     },
     "execution_count": 7,
     "metadata": {},
     "output_type": "execute_result"
    }
   ],
   "source": [
    "# All columns have numeric type\n",
    "\n",
    "# Look's like index column is 'unnamed: 0' \n",
    "# I will rename column name from 'Unnamed: 0' to 'Index' and set index\n",
    "\n",
    "sales.rename(columns={'Unnamed: 0':'Index'},inplace=True)\n",
    "sales.set_index('Index')"
   ]
  },
  {
   "cell_type": "code",
   "execution_count": 8,
   "metadata": {},
   "outputs": [],
   "source": [
    "# What is correlation between particular ad and sales ?\n",
    "# First import matplotlib.pyplot and seaborn\n",
    "\n",
    "import matplotlib.pyplot as plt\n",
    "import seaborn as sns\n",
    "\n",
    "# allow plots to appear within the notebook\n",
    "%matplotlib inline\n",
    "\n",
    "# Set sns\n",
    "sns.set()"
   ]
  },
  {
   "cell_type": "code",
   "execution_count": 9,
   "metadata": {},
   "outputs": [
    {
     "name": "stderr",
     "output_type": "stream",
     "text": [
      "d:\\program files\\python\\scripts\\venv\\lib\\site-packages\\seaborn\\axisgrid.py:2065: UserWarning: The `size` parameter has been renamed to `height`; pleaes update your code.\n",
      "  warnings.warn(msg, UserWarning)\n"
     ]
    },
    {
     "data": {
      "text/plain": [
       "<seaborn.axisgrid.PairGrid at 0x23dd3c37b70>"
      ]
     },
     "execution_count": 9,
     "metadata": {},
     "output_type": "execute_result"
    },
    {
     "data": {
      "image/png": "[encoded data removed]",
      "text/plain": [
       "<Figure size 1058.4x504 with 3 Axes>"
      ]
     },
     "metadata": {
      "needs_background": "light"
     },
     "output_type": "display_data"
    }
   ],
   "source": [
    "# visualize the relationship between the features and the response using scatterplots\n",
    "\n",
    "sns.pairplot(sales,x_vars=['TV','Radio','Newspaper'],y_vars='Sales',size=7,aspect=0.7,kind='reg')"
   ]
  },
  {
   "cell_type": "code",
   "execution_count": 10,
   "metadata": {},
   "outputs": [],
   "source": [
    "# Looks like TV and Sales have very good correlation\n",
    "# Radio and Sales have some correlation but Newspaper is not correlated\n",
    "# Let's investigate it further\n",
    "\n",
    "features=['TV','Radio','Newspaper','Sales']\n",
    "correlation=np.round(sales[features].corr(),2)"
   ]
  },
  {
   "cell_type": "code",
   "execution_count": 11,
   "metadata": {},
   "outputs": [
    {
     "data": {
      "text/plain": [
       "<matplotlib.axes._subplots.AxesSubplot at 0x23dde454400>"
      ]
     },
     "execution_count": 11,
     "metadata": {},
     "output_type": "execute_result"
    },
    {
     "data": {
      "image/png": "[encoded data removed]",
      "text/plain": [
       "<Figure size 432x288 with 2 Axes>"
      ]
     },
     "metadata": {
      "needs_background": "light"
     },
     "output_type": "display_data"
    }
   ],
   "source": [
    "# Creaintg heatmap\n",
    "\n",
    "sns.heatmap(correlation,annot=True,cmap=plt.cm.Reds)"
   ]
  },
  {
   "cell_type": "markdown",
   "metadata": {},
   "source": [
    " <br><b>TV</b> and <b>Sales</b> have correlation <b>0.78</b> which is strong correlation.<br>\n",
    " <b>Radio</b> and <b>Sales</b> have correlation <b>0.58</b> which means they have medium correlation.<br>\n",
    " <b>Newspaper</b> and <b>Sales</b> have correlation <b>0.23</b> which means they are not correlated.<br><br>"
   ]
  },
  {
   "cell_type": "markdown",
   "metadata": {},
   "source": [
    "### <br>3. Data cleaning<br>"
   ]
  },
  {
   "cell_type": "code",
   "execution_count": 12,
   "metadata": {},
   "outputs": [
    {
     "data": {
      "text/plain": [
       "Index        0\n",
       "TV           0\n",
       "Radio        0\n",
       "Newspaper    0\n",
       "Sales        0\n",
       "dtype: int64"
      ]
     },
     "execution_count": 12,
     "metadata": {},
     "output_type": "execute_result"
    }
   ],
   "source": [
    "# Checking NaN's in data\n",
    "\n",
    "sales.isna().sum()"
   ]
  },
  {
   "cell_type": "markdown",
   "metadata": {},
   "source": [
    "Since all columns are numeric I just needed to count how many NaN's are in the columns. <br>\n",
    "All columns have 0 NaN's so data are ready for predictions.<br>\n",
    "This will not always be the case and will  be needed to do some preparations.<br><br>\n",
    "\n",
    "Let's create linear regression model.<br>"
   ]
  },
  {
   "cell_type": "markdown",
   "metadata": {},
   "source": [
    "### <br> 4. Creatting linear model<br>"
   ]
  },
  {
   "cell_type": "code",
   "execution_count": 13,
   "metadata": {},
   "outputs": [],
   "source": [
    "# Import linear regression from sklearn.linear_model\n",
    "\n",
    "from sklearn.linear_model import LinearRegression"
   ]
  },
  {
   "cell_type": "code",
   "execution_count": 14,
   "metadata": {},
   "outputs": [],
   "source": [
    "# Create X (feature) and y(responese) variables\n",
    "# First I will create X with all columns (including Newspaper) and make prediction\n",
    "# Later I will recreate X variable without Newspaper and make model comparision\n",
    "\n",
    "X=sales.drop(['Index','Sales'],axis=1)\n",
    "y=sales['Sales']\n"
   ]
  },
  {
   "cell_type": "code",
   "execution_count": 15,
   "metadata": {},
   "outputs": [
    {
     "name": "stdout",
     "output_type": "stream",
     "text": [
      "(200, 3)\n",
      "(200,)\n"
     ]
    }
   ],
   "source": [
    "# Checking shapes\n",
    "# X variable have 3 columns and y will type of Pandas Series\n",
    "\n",
    "print(X.shape)\n",
    "print(y.shape)"
   ]
  },
  {
   "cell_type": "code",
   "execution_count": 16,
   "metadata": {},
   "outputs": [],
   "source": [
    "# Split data into train and test sets\n",
    "# First import train_test_split function from sklearn.model_selection\n",
    "from sklearn.model_selection import train_test_split\n",
    "\n",
    "# Splitting data into train and test sets\n",
    "# Creating X_train, X_test, y_train and y_test variables\n",
    "# I will not set test size parameter because default value is 25% and It is enough\n",
    "\n",
    "X_train,X_test,y_train,y_test=train_test_split(X,y,random_state=42)"
   ]
  },
  {
   "cell_type": "code",
   "execution_count": 17,
   "metadata": {},
   "outputs": [],
   "source": [
    "# Let's create our linear regression model\n",
    "\n",
    "model=LinearRegression()"
   ]
  },
  {
   "cell_type": "code",
   "execution_count": 18,
   "metadata": {},
   "outputs": [
    {
     "data": {
      "text/plain": [
       "LinearRegression(copy_X=True, fit_intercept=True, n_jobs=None, normalize=False)"
      ]
     },
     "execution_count": 18,
     "metadata": {},
     "output_type": "execute_result"
    }
   ],
   "source": [
    "# Fit data on train set\n",
    "\n",
    "model.fit(X_train,y_train)"
   ]
  },
  {
   "cell_type": "code",
   "execution_count": 19,
   "metadata": {},
   "outputs": [
    {
     "name": "stdout",
     "output_type": "stream",
     "text": [
      "2.78\n",
      "[0.04543356 0.19145654 0.00256809]\n"
     ]
    }
   ],
   "source": [
    "# Let's see how much impact our features (slope value) have on Sales\n",
    "# Reminder Linear Regression formula => y = a + bx\n",
    "# Where 'a' is intercept and b is slope\n",
    "\n",
    "feature_names=['TV','Radio','Newspaper']\n",
    "print(np.round(model.intercept_,2))\n",
    "print(model.coef_)"
   ]
  },
  {
   "cell_type": "markdown",
   "metadata": {},
   "source": [
    "<br>\n",
    " TV = 0.04543356 <br>\n",
    " Radio = 0.19145654 <br>\n",
    " Newspaper = 0.00256809 <br>\n",
    " Let's rewrite formula <br>\n",
    " Sales = 2.78 + 0.04543356 x TV + 0.19145654 x Radio + 0.00256809 x Newspaper <br> <br>\n",
    " \n",
    "How do we interpret the TV coefficient (0.0466)?<br><br>\n",
    "For a given amount of Radio and Newspaper ad spending, a \"unit\" increase in TV ad spending is associated with a <b>0.0466</b> \"unit\" increase in Sales.<br><br>\n",
    "\n",
    "<b>Or more clearly </b>: For a given amount of Radio and Newspaper ad spending, an additional $1,000 spent on TV ads is associated with an increase in sales of 46.6 (thousand) items.<br>\n",
    " <br><br><br>\n",
    " \n",
    " <b> Tip </b>: coefficient also can be negative <br>\n",
    " So in this case if Newspaper's coeffictient is negative then if money is invested in that particular ad the number of sold items will be decreased.<br><br>"
   ]
  },
  {
   "cell_type": "markdown",
   "metadata": {},
   "source": [
    "### <br> 5. Making predictions <br>"
   ]
  },
  {
   "cell_type": "code",
   "execution_count": 20,
   "metadata": {},
   "outputs": [],
   "source": [
    "# Making prediction with train set\n",
    "# Storing result in y_pred variable\n",
    "\n",
    "y_pred=model.predict(X_test)"
   ]
  },
  {
   "cell_type": "markdown",
   "metadata": {},
   "source": [
    " <br>Let's see how our model is accurate and R-squared value<br>\n",
    " R-squared is a statistical measure of how close the data are to the fitted regression line.<br>\n",
    " It is also known as the coefficient of determination, or the coefficient of  multiple determination for multiple regression.<br><br>\n",
    " \n",
    "R-squared is always between 0 and 100%:<br><br>\n",
    "\n",
    "*  0% indicates that the model explains none of the variability of the response data around its mean.\n",
    "*  100% indicates that the model explains all the variability of the response data around its mean.<br><br>"
   ]
  },
  {
   "cell_type": "markdown",
   "metadata": {},
   "source": [
    "### <br> 6. Evaluate model <br>"
   ]
  },
  {
   "cell_type": "code",
   "execution_count": 21,
   "metadata": {},
   "outputs": [],
   "source": [
    "# import metrics from sklearn\n",
    "\n",
    "from sklearn import metrics"
   ]
  },
  {
   "cell_type": "code",
   "execution_count": 22,
   "metadata": {},
   "outputs": [
    {
     "name": "stdout",
     "output_type": "stream",
     "text": [
      "1.6970632663793623\n"
     ]
    }
   ],
   "source": [
    "# Root Mean Squared Error (RMSE) is the square root of the mean of the squared errors\n",
    "\n",
    "rmseWithN=np.sqrt(metrics.mean_squared_error(y_test,y_pred))\n",
    "print(rmseWithN)"
   ]
  },
  {
   "cell_type": "code",
   "execution_count": 23,
   "metadata": {},
   "outputs": [
    {
     "name": "stdout",
     "output_type": "stream",
     "text": [
      "0.8967750611958448\n"
     ]
    }
   ],
   "source": [
    "r2WithN=model.score(X,y)\n",
    "print(r2WithN)"
   ]
  },
  {
   "cell_type": "code",
   "execution_count": 24,
   "metadata": {},
   "outputs": [],
   "source": [
    "# R-squared is 0.89 which means that 89% of data are explained with regression line\n",
    "\n",
    "# Now let's create model again but now without 'Newspaper' column and check RMSE and R2\n",
    "\n",
    "# Creating X and y\n",
    "X=sales[['TV','Radio']]\n",
    "y=sales['Sales']\n",
    "\n",
    "# Create train and test set\n",
    "X_train, X_test, y_train, y_test = train_test_split(X,y,random_state=42)\n",
    "\n",
    "# Fitting model\n",
    "model.fit(X_train, y_train)\n",
    "\n",
    "# Making predictions\n",
    "y_pred=model.predict(X_test)\n",
    "\n",
    "# Checking RMSE\n",
    "rmseWithoutN=np.sqrt(metrics.mean_squared_error(y_test,y_pred))\n",
    "\n",
    "# Checking R-squared\n",
    "r2WithoutN=model.score(X,y)"
   ]
  },
  {
   "cell_type": "code",
   "execution_count": 25,
   "metadata": {},
   "outputs": [
    {
     "name": "stdout",
     "output_type": "stream",
     "text": [
      "RMSE with Newspaper :  1.6970632663793623\n",
      "R2 with Newspaper :  0.8967750611958448\n",
      "RMSE without Newspaper :  1.6893770318599997\n",
      "R2 without Newspaper :  0.8969487223477477\n"
     ]
    }
   ],
   "source": [
    "# Now make comparison\n",
    "\n",
    "print(\"RMSE with Newspaper : \",format(rmseWithN))\n",
    "print(\"R2 with Newspaper : \",format(r2WithN))\n",
    "print(\"RMSE without Newspaper : \",format(rmseWithoutN))\n",
    "print(\"R2 without Newspaper : \",format(r2WithoutN))"
   ]
  },
  {
   "cell_type": "markdown",
   "metadata": {},
   "source": [
    "<br><b> Conclusion</b>:\n",
    "Our model is better without 'Newspaper' feature since there are no correlation between Sales and Newspaper ads.<br><br> "
   ]
  },
  {
   "cell_type": "markdown",
   "metadata": {},
   "source": [
    "### <br> BONUS: Linear model with LassoCV and RidgeCV <br>"
   ]
  },
  {
   "cell_type": "markdown",
   "metadata": {},
   "source": [
    "#### <br> Lasso with cross validation<br>"
   ]
  },
  {
   "cell_type": "code",
   "execution_count": 26,
   "metadata": {},
   "outputs": [],
   "source": [
    "# Import Lasso with cross validation from sklearn.linear_model\n",
    "\n",
    "from sklearn.linear_model import LassoCV"
   ]
  },
  {
   "cell_type": "code",
   "execution_count": 27,
   "metadata": {},
   "outputs": [],
   "source": [
    "# Creating LassoCV model\n",
    "# n_alphas is number of alpha values to use\n",
    "# normaliza=True means that data will be first scaled\n",
    "\n",
    "lassoCV=LassoCV(n_alphas=100,normalize=True,random_state=2)"
   ]
  },
  {
   "cell_type": "code",
   "execution_count": 28,
   "metadata": {},
   "outputs": [
    {
     "name": "stderr",
     "output_type": "stream",
     "text": [
      "d:\\program files\\python\\scripts\\venv\\lib\\site-packages\\sklearn\\model_selection\\_split.py:1978: FutureWarning: The default value of cv will change from 3 to 5 in version 0.22. Specify it explicitly to silence this warning.\n",
      "  warnings.warn(CV_WARNING, FutureWarning)\n"
     ]
    },
    {
     "data": {
      "text/plain": [
       "LassoCV(alphas=None, copy_X=True, cv='warn', eps=0.001, fit_intercept=True,\n",
       "        max_iter=1000, n_alphas=100, n_jobs=None, normalize=True,\n",
       "        positive=False, precompute='auto', random_state=2, selection='cyclic',\n",
       "        tol=0.0001, verbose=False)"
      ]
     },
     "execution_count": 28,
     "metadata": {},
     "output_type": "execute_result"
    }
   ],
   "source": [
    "# Fit model to data\n",
    "# I will fit model to the same train set which I created earlier\n",
    "\n",
    "lassoCV.fit(X_train, y_train)"
   ]
  },
  {
   "cell_type": "code",
   "execution_count": 29,
   "metadata": {},
   "outputs": [],
   "source": [
    "# Now I will make predictions with test data\n",
    "\n",
    "y_pred=lassoCV.predict(X_test)"
   ]
  },
  {
   "cell_type": "code",
   "execution_count": 30,
   "metadata": {},
   "outputs": [],
   "source": [
    "# Calculating RMSE and R-squared\n",
    "\n",
    "lassoCVrmse=np.sqrt(metrics.mean_squared_error(y_test,y_pred))\n",
    "lassoCVr2=lassoCV.score(X,y)"
   ]
  },
  {
   "cell_type": "code",
   "execution_count": 31,
   "metadata": {},
   "outputs": [
    {
     "name": "stdout",
     "output_type": "stream",
     "text": [
      "Lasso regression with cross validation RMSE: 1.6889480354689266\n",
      "Lasso regression with cross validation R-squared: 0.8969612595748477\n"
     ]
    }
   ],
   "source": [
    "print(\"Lasso regression with cross validation RMSE:\",format(lassoCVrmse))\n",
    "print(\"Lasso regression with cross validation R-squared:\",format(lassoCVr2))"
   ]
  },
  {
   "cell_type": "markdown",
   "metadata": {},
   "source": [
    "It looks like with Lasso regression RMSE is slightly decreased.<br>\n",
    "Now I will use Ridge regression and make predictions.<br>\n",
    "Later I will compare all models.<br>"
   ]
  },
  {
   "cell_type": "code",
   "execution_count": 32,
   "metadata": {},
   "outputs": [],
   "source": [
    "# First import RidgeCV from sklearn.linear_model\n",
    "\n",
    "from sklearn.linear_model import RidgeCV"
   ]
  },
  {
   "cell_type": "code",
   "execution_count": 33,
   "metadata": {},
   "outputs": [],
   "source": [
    "# Create model\n",
    "\n",
    "# Range for alpha parameter\n",
    "alphas_range=10.**np.arange(-2,3)\n",
    "\n",
    "# Create model with alphas range\n",
    "# Scalling data with normalizr=True\n",
    "# Set scoring to r-squared\n",
    "\n",
    "ridgeCV=RidgeCV(alphas=alphas_range,normalize='True',scoring='r2')"
   ]
  },
  {
   "cell_type": "code",
   "execution_count": 34,
   "metadata": {},
   "outputs": [
    {
     "data": {
      "text/plain": [
       "RidgeCV(alphas=array([1.e-02, 1.e-01, 1.e+00, 1.e+01, 1.e+02]), cv=None,\n",
       "        fit_intercept=True, gcv_mode=None, normalize='True', scoring='r2',\n",
       "        store_cv_values=False)"
      ]
     },
     "execution_count": 34,
     "metadata": {},
     "output_type": "execute_result"
    }
   ],
   "source": [
    "# Fit model to data\n",
    "\n",
    "ridgeCV.fit(X_train,y_train)"
   ]
  },
  {
   "cell_type": "code",
   "execution_count": 35,
   "metadata": {},
   "outputs": [],
   "source": [
    "# Making predictions\n",
    "\n",
    "y_pred=ridgeCV.predict(X_test)"
   ]
  },
  {
   "cell_type": "code",
   "execution_count": 36,
   "metadata": {},
   "outputs": [],
   "source": [
    "# Calculating RMSE and R-squared\n",
    "\n",
    "ridgeCVrmse=np.sqrt(metrics.mean_squared_error(y_test,y_pred))\n",
    "ridgeCVr2=ridgeCV.score(X,y)"
   ]
  },
  {
   "cell_type": "code",
   "execution_count": 37,
   "metadata": {},
   "outputs": [
    {
     "name": "stdout",
     "output_type": "stream",
     "text": [
      "Ridge regression with cross validation RMSE: 1.687527197217106\n",
      "Ridge regression with cross validation R-squared: 0.8969462317927411\n"
     ]
    }
   ],
   "source": [
    "print(\"Ridge regression with cross validation RMSE:\",format(ridgeCVrmse))\n",
    "print(\"Ridge regression with cross validation R-squared:\",format(ridgeCVr2))"
   ]
  },
  {
   "cell_type": "code",
   "execution_count": 38,
   "metadata": {},
   "outputs": [
    {
     "name": "stdout",
     "output_type": "stream",
     "text": [
      "Lasso regression with cross validation RMSE: 1.6889480354689266\n",
      "Lasso regression with cross validation R-squared: 0.8969612595748477\n",
      "Ridge regression with cross validation RMSE: 1.687527197217106\n",
      "Ridge regression with cross validation R-squared: 0.8969462317927411\n"
     ]
    }
   ],
   "source": [
    "# Now I will compare results from Lasso and Ridge regressions\n",
    "\n",
    "print(\"Lasso regression with cross validation RMSE:\",format(lassoCVrmse))\n",
    "print(\"Lasso regression with cross validation R-squared:\",format(lassoCVr2))\n",
    "print(\"Ridge regression with cross validation RMSE:\",format(ridgeCVrmse))\n",
    "print(\"Ridge regression with cross validation R-squared:\",format(ridgeCVr2))"
   ]
  },
  {
   "cell_type": "markdown",
   "metadata": {},
   "source": [
    "<br> Because error is something that you will always want to minimize in this case Ridge regression's RMSE is slightly better.<br><br>"
   ]
  },
  {
   "cell_type": "code",
   "execution_count": 39,
   "metadata": {},
   "outputs": [
    {
     "name": "stdout",
     "output_type": "stream",
     "text": [
      " TV coefficient :  0.045\n",
      " Radio coefficient :  0.191\n",
      "\n",
      "By investing 1000$ just in TV  ads sales amount will be ($ units):  45.000 $\n",
      "By investing 1000$ just in Radio  ads sales amount will be ($ units):  191.000 $\n"
     ]
    }
   ],
   "source": [
    "feature_names=['TV','Radio']\n",
    "tv=np.round(ridgeCV.coef_[0],3)\n",
    "radio=np.round(ridgeCV.coef_[1],3)\n",
    "\n",
    "print(\" TV coefficient : \",tv)\n",
    "print(\" Radio coefficient : \",radio)\n",
    "\n",
    "SalesWithTVAd1000=int(tv*1000)\n",
    "SalesWithRadioAd1000=int(radio*1000)\n",
    "\n",
    "print(\"\\nBy investing 1000$ just in TV  ads sales amount will be ($ units): \",format(SalesWithTVAd1000)+'.000 $')\n",
    "print(\"By investing 1000$ just in Radio  ads sales amount will be ($ units): \",format(SalesWithRadioAd1000)+'.000 $')\n"
   ]
  },
  {
   "cell_type": "markdown",
   "metadata": {},
   "source": [
    "### <br> Summary <br><br>\n",
    "\n",
    "Linear regression is used when you predicting a continuous response.<br><br>\n",
    "<b> $y = \\beta_0 + \\beta_1x$ </b><br><br>\n",
    "What does each term represent?\n",
    "\n",
    "<b> $y$ </b> is the response<br>\n",
    "<b> $x$ </b> is the feature<br>\n",
    "<b> $\\beta_0$ </b> is the intercept<br>\n",
    "<b> $\\beta_1$ </b> is the coefficient for x<br><br>\n",
    "\n",
    "Before creating linear regression model first what you need to do is to check correlation between data. Then select best features for your model and make predictions.<br><br>\n",
    "\n",
    "*  R-squared will not be decreased if you have features with very weak correlation\n",
    "*  Very high R-squared does not mean that your model is perfect\n",
    "*  Very low R-squared does not mean that your model is bad\n",
    "<br><br>\n",
    "\n",
    "#### Advantages of regularized linear models:<br><br>\n",
    "\n",
    "*  Better performance\n",
    "*  L1 regularization performs automatic feature selection\n",
    "*  Useful for high-dimensional problems (p > n)<br><br>\n",
    "\n",
    "#### Disadvantages of regularized linear models:<br><br>\n",
    "\n",
    "*  Tuning is required\n",
    "*  Feature scaling is recommended\n",
    "*  Less interpretable (due to feature scaling)<br><br>"
   ]
  },
  {
   "cell_type": "markdown",
   "metadata": {},
   "source": [
    "#### <br> Resources <br> <br>\n",
    "\n",
    "*  Linear Regression - <a href='https://towardsdatascience.com/a-beginners-guide-to-linear-regression-in-python-with-scikit-learn-83a8f7ae2b4f'>Toward's Data Science article about Linear Regression with scikit-learn</a><br><br>\n",
    "*  Feature selection -  <a href=\"https://towardsdatascience.com/feature-selection-techniques-in-machine-learning-with-python-f24e7da3f36e\">TowardsDataScience article about Feature selection</a><br><br>\n",
    "*  Ridge and Lasso -  <a href=\"https://towardsdatascience.com/ridge-and-lasso-regression-a-complete-guide-with-python-scikit-learn-e20e34bcbf0b\">TowardsDataScience article about Ridge and Lasso Regresion</a><br><br>\n",
    "\n",
    "Videos about Ridge and Lasso regularizations<br><br>\n",
    "Ridge -> https://www.youtube.com/watch?v=Q81RR3yKn30 <br>\n",
    "Lasso -> https://www.youtube.com/watch?v=NGf0voTMlcs <br><br>\n",
    "\n"
   ]
  }
 ],
 "metadata": {
  "kernelspec": {
   "display_name": "Python 3",
   "language": "python",
   "name": "python3"
  },
  "language_info": {
   "codemirror_mode": {
    "name": "ipython",
    "version": 3
   },
   "file_extension": ".py",
   "mimetype": "text/x-python",
   "name": "python",
   "nbconvert_exporter": "python",
   "pygments_lexer": "ipython3",
   "version": "3.7.0"
  }
 },
 "nbformat": 4,
 "nbformat_minor": 2
}
